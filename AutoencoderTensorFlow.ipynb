{
  "nbformat": 4,
  "nbformat_minor": 0,
  "metadata": {
    "colab": {
      "name": "AutoencoderTensorFlow.ipynb",
      "version": "0.3.2",
      "provenance": [],
      "include_colab_link": true
    },
    "language_info": {
      "codemirror_mode": {
        "name": "ipython",
        "version": 3
      },
      "file_extension": ".py",
      "mimetype": "text/x-python",
      "name": "python",
      "nbconvert_exporter": "python",
      "pygments_lexer": "ipython3",
      "version": "3.5.3"
    },
    "kernelspec": {
      "name": "python3",
      "display_name": "Python 3"
    }
  },
  "cells": [
    {
      "cell_type": "markdown",
      "metadata": {
        "id": "view-in-github",
        "colab_type": "text"
      },
      "source": [
        "<a href=\"https://colab.research.google.com/github/2SUBDA/Block3_Run/blob/master/AutoencoderTensorFlow.ipynb\" target=\"_parent\"><img src=\"https://colab.research.google.com/assets/colab-badge.svg\" alt=\"Open In Colab\"/></a>"
      ]
    },
    {
      "cell_type": "code",
      "metadata": {
        "id": "STrd77n6xglF",
        "colab_type": "code",
        "colab": {}
      },
      "source": [
        "# ANOTHER VIEW OF AUTOENCODERS \n",
        "# USING MNIST AS EXAMPLE DATA\n",
        "# BASED ON GERON (2017)\n",
        "\n",
        "import numpy as np\n",
        "import numpy.random as rnd\n",
        "import os\n",
        "import sys\n",
        "\n",
        "from sklearn.preprocessing import StandardScaler # FOR NORMALIZING\n",
        "\n",
        "import matplotlib\n",
        "import matplotlib.pyplot as plt"
      ],
      "execution_count": 0,
      "outputs": []
    },
    {
      "cell_type": "code",
      "metadata": {
        "id": "iW_ZW6pVxglI",
        "colab_type": "code",
        "colab": {
          "base_uri": "https://localhost:8080/",
          "height": 35
        },
        "outputId": "ea7f940c-1c4f-45ec-a842-37a30e162b0a"
      },
      "source": [
        "import tensorflow as tf\n",
        "\n",
        "hello = tf.constant('Hello, TensorFlow!')\n",
        "sess = tf.Session()\n",
        "print(sess.run(hello))"
      ],
      "execution_count": 2,
      "outputs": [
        {
          "output_type": "stream",
          "text": [
            "b'Hello, TensorFlow!'\n"
          ],
          "name": "stdout"
        }
      ]
    },
    {
      "cell_type": "code",
      "metadata": {
        "id": "0ppXdQi0xglO",
        "colab_type": "code",
        "colab": {}
      },
      "source": [
        "# BUILD BASIC FUNCTIONS FOR PLOTTING\n",
        "\n",
        "plt.rcParams['axes.labelsize'] = 14\n",
        "plt.rcParams['xtick.labelsize'] = 12\n",
        "plt.rcParams['ytick.labelsize'] = 12\n",
        "\n",
        "def plot_image(image, shape=[28, 28]):\n",
        "    plt.imshow(image.reshape(shape), cmap=\"Greys\", interpolation=\"nearest\")\n",
        "    plt.axis(\"off\")\n",
        "    \n",
        "    \n",
        "def plot_multiple_images(images, n_rows, n_cols, pad=2):\n",
        "    images = images - images.min()  # make the minimum == 0, so the padding looks white\n",
        "    w,h = images.shape[1:]\n",
        "    image = np.zeros(((w+pad)*n_rows+pad, (h+pad)*n_cols+pad))\n",
        "    for y in range(n_rows):\n",
        "        for x in range(n_cols):\n",
        "            image[(y*(h+pad)+pad):(y*(h+pad)+pad+h),(x*(w+pad)+pad):(x*(w+pad)+pad+w)] = images[y*n_cols+x]\n",
        "    plt.imshow(image, cmap=\"Greys\", interpolation=\"nearest\")\n",
        "    plt.axis(\"off\")\n",
        "    "
      ],
      "execution_count": 0,
      "outputs": []
    },
    {
      "cell_type": "code",
      "metadata": {
        "id": "BRj1xEpCxglQ",
        "colab_type": "code",
        "colab": {}
      },
      "source": [
        "# OBTAIN - BUILD DATASET\n",
        "\n",
        "rnd.seed(4)\n",
        "m = 200\n",
        "w1, w2 = 0.1, 0.3\n",
        "noise = 0.1\n",
        "\n",
        "angles = rnd.rand(m) * 3 * np.pi / 2 - 0.5\n",
        "data = np.empty((m, 3))\n",
        "data[:, 0] = np.cos(angles) + np.sin(angles)/2 + noise * rnd.randn(m) / 2\n",
        "data[:, 1] = np.sin(angles) * 0.7 + noise * rnd.randn(m) / 2\n",
        "data[:, 2] = data[:, 0] * w1 + data[:, 1] * w2 + noise * rnd.randn(m)"
      ],
      "execution_count": 0,
      "outputs": []
    },
    {
      "cell_type": "code",
      "metadata": {
        "id": "4psV5tv9xglS",
        "colab_type": "code",
        "colab": {}
      },
      "source": [
        "# SCRUB - NORMALIZE DATA\n",
        "\n",
        "scaler = StandardScaler()\n",
        "X_train = scaler.fit_transform(data[:100])\n",
        "X_test = scaler.transform(data[100:])"
      ],
      "execution_count": 0,
      "outputs": []
    },
    {
      "cell_type": "code",
      "metadata": {
        "id": "Gv47R-vyxglU",
        "colab_type": "code",
        "colab": {
          "base_uri": "https://localhost:8080/",
          "height": 236
        },
        "outputId": "f7beb739-9f53-4d18-a969-190b0ead1bca"
      },
      "source": [
        "# MODEL - BUILD TENSOR\n",
        "\n",
        "n_inputs = 3\n",
        "n_hidden = 2  # codings\n",
        "n_outputs = n_inputs\n",
        "\n",
        "learning_rate = 0.01\n",
        "\n",
        "X = tf.placeholder(tf.float32, shape=[None, n_inputs])\n",
        "hidden = tf.layers.dense(X, n_hidden)\n",
        "outputs = tf.layers.dense(hidden, n_outputs)\n",
        "\n",
        "reconstruction_loss = tf.reduce_mean(tf.square(outputs - X))\n",
        "\n",
        "optimizer = tf.train.AdamOptimizer(learning_rate)\n",
        "training_op = optimizer.minimize(reconstruction_loss)\n",
        "\n",
        "init = tf.global_variables_initializer()"
      ],
      "execution_count": 5,
      "outputs": [
        {
          "output_type": "error",
          "ename": "NameError",
          "evalue": "ignored",
          "traceback": [
            "\u001b[0;31m---------------------------------------------------------------------------\u001b[0m",
            "\u001b[0;31mNameError\u001b[0m                                 Traceback (most recent call last)",
            "\u001b[0;32m<ipython-input-5-1b88e22aea77>\u001b[0m in \u001b[0;36m<module>\u001b[0;34m()\u001b[0m\n\u001b[1;32m      6\u001b[0m \u001b[0mlearning_rate\u001b[0m \u001b[0;34m=\u001b[0m \u001b[0;36m0.01\u001b[0m\u001b[0;34m\u001b[0m\u001b[0;34m\u001b[0m\u001b[0m\n\u001b[1;32m      7\u001b[0m \u001b[0;34m\u001b[0m\u001b[0m\n\u001b[0;32m----> 8\u001b[0;31m \u001b[0mX\u001b[0m \u001b[0;34m=\u001b[0m \u001b[0mtf\u001b[0m\u001b[0;34m.\u001b[0m\u001b[0mplaceholder\u001b[0m\u001b[0;34m(\u001b[0m\u001b[0mtf\u001b[0m\u001b[0;34m.\u001b[0m\u001b[0mfloat32\u001b[0m\u001b[0;34m,\u001b[0m \u001b[0mshape\u001b[0m\u001b[0;34m=\u001b[0m\u001b[0;34m[\u001b[0m\u001b[0;32mNone\u001b[0m\u001b[0;34m,\u001b[0m \u001b[0mn_inputs\u001b[0m\u001b[0;34m]\u001b[0m\u001b[0;34m)\u001b[0m\u001b[0;34m\u001b[0m\u001b[0;34m\u001b[0m\u001b[0m\n\u001b[0m\u001b[1;32m      9\u001b[0m \u001b[0mhidden\u001b[0m \u001b[0;34m=\u001b[0m \u001b[0mtf\u001b[0m\u001b[0;34m.\u001b[0m\u001b[0mlayers\u001b[0m\u001b[0;34m.\u001b[0m\u001b[0mdense\u001b[0m\u001b[0;34m(\u001b[0m\u001b[0mX\u001b[0m\u001b[0;34m,\u001b[0m \u001b[0mn_hidden\u001b[0m\u001b[0;34m)\u001b[0m\u001b[0;34m\u001b[0m\u001b[0;34m\u001b[0m\u001b[0m\n\u001b[1;32m     10\u001b[0m \u001b[0moutputs\u001b[0m \u001b[0;34m=\u001b[0m \u001b[0mtf\u001b[0m\u001b[0;34m.\u001b[0m\u001b[0mlayers\u001b[0m\u001b[0;34m.\u001b[0m\u001b[0mdense\u001b[0m\u001b[0;34m(\u001b[0m\u001b[0mhidden\u001b[0m\u001b[0;34m,\u001b[0m \u001b[0mn_outputs\u001b[0m\u001b[0;34m)\u001b[0m\u001b[0;34m\u001b[0m\u001b[0;34m\u001b[0m\u001b[0m\n",
            "\u001b[0;31mNameError\u001b[0m: name 'tf' is not defined"
          ]
        }
      ]
    },
    {
      "cell_type": "code",
      "metadata": {
        "id": "Gz8VJRqFxglW",
        "colab_type": "code",
        "colab": {
          "base_uri": "https://localhost:8080/",
          "height": 52
        },
        "outputId": "de94524d-e1bf-4e19-8731-2e0b1968e61f"
      },
      "source": [
        "%%time\n",
        "\n",
        "n_iterations = 10000\n",
        "codings = hidden\n",
        "\n",
        "with tf.Session() as sess:\n",
        "    init.run()\n",
        "    for iteration in range(n_iterations):\n",
        "        training_op.run(feed_dict={X: X_train})\n",
        "    codings_val = codings.eval(feed_dict={X: X_test})"
      ],
      "execution_count": 7,
      "outputs": [
        {
          "output_type": "stream",
          "text": [
            "CPU times: user 5.21 s, sys: 357 ms, total: 5.56 s\n",
            "Wall time: 4.21 s\n"
          ],
          "name": "stdout"
        }
      ]
    },
    {
      "cell_type": "code",
      "metadata": {
        "id": "heOA7dO9xglb",
        "colab_type": "code",
        "colab": {
          "base_uri": "https://localhost:8080/",
          "height": 241
        },
        "outputId": "a85b57ce-0c49-4b7d-d058-480f4880007a"
      },
      "source": [
        "# MODEL - REVIEW\n",
        "\n",
        "fig = plt.figure(figsize=(4,3))\n",
        "plt.plot(codings_val[:,0], codings_val[:, 1], \"b.\")\n",
        "plt.xlabel(\"$z_1$\", fontsize=18)\n",
        "plt.ylabel(\"$z_2$\", fontsize=18, rotation=0)\n",
        "plt.show()"
      ],
      "execution_count": 8,
      "outputs": [
        {
          "output_type": "display_data",
          "data": {
            "image/png": "[encoded data removed]",
            "text/plain": [
              "<Figure size 288x216 with 1 Axes>"
            ]
          },
          "metadata": {
            "tags": []
          }
        }
      ]
    },
    {
      "cell_type": "markdown",
      "metadata": {
        "id": "RLr7sn19xgld",
        "colab_type": "text"
      },
      "source": [
        "Using a stacked Autoencoder for MNIST data."
      ]
    },
    {
      "cell_type": "code",
      "metadata": {
        "id": "fzYzwdiOxgle",
        "colab_type": "code",
        "colab": {
          "base_uri": "https://localhost:8080/",
          "height": 488
        },
        "outputId": "b42c8b0d-bb98-4ceb-9327-b4875319fbb7"
      },
      "source": [
        "# OBTAIN - EXTRACT DATA FROM TENSORFLOW LIBARY\n",
        "\n",
        "from tensorflow.examples.tutorials.mnist import input_data\n",
        "mnist = input_data.read_data_sets(\"/tmp/data/\")"
      ],
      "execution_count": 9,
      "outputs": [
        {
          "output_type": "stream",
          "text": [
            "WARNING:tensorflow:From <ipython-input-9-3542004e0c25>:3: read_data_sets (from tensorflow.contrib.learn.python.learn.datasets.mnist) is deprecated and will be removed in a future version.\n",
            "Instructions for updating:\n",
            "Please use alternatives such as official/mnist/dataset.py from tensorflow/models.\n",
            "WARNING:tensorflow:From /usr/local/lib/python3.6/dist-packages/tensorflow/contrib/learn/python/learn/datasets/mnist.py:260: maybe_download (from tensorflow.contrib.learn.python.learn.datasets.base) is deprecated and will be removed in a future version.\n",
            "Instructions for updating:\n",
            "Please write your own downloading logic.\n",
            "WARNING:tensorflow:From /usr/local/lib/python3.6/dist-packages/tensorflow/contrib/learn/python/learn/datasets/base.py:252: _internal_retry.<locals>.wrap.<locals>.wrapped_fn (from tensorflow.contrib.learn.python.learn.datasets.base) is deprecated and will be removed in a future version.\n",
            "Instructions for updating:\n",
            "Please use urllib or similar directly.\n",
            "Successfully downloaded train-images-idx3-ubyte.gz 9912422 bytes.\n",
            "WARNING:tensorflow:From /usr/local/lib/python3.6/dist-packages/tensorflow/contrib/learn/python/learn/datasets/mnist.py:262: extract_images (from tensorflow.contrib.learn.python.learn.datasets.mnist) is deprecated and will be removed in a future version.\n",
            "Instructions for updating:\n",
            "Please use tf.data to implement this functionality.\n",
            "Extracting /tmp/data/train-images-idx3-ubyte.gz\n",
            "Successfully downloaded train-labels-idx1-ubyte.gz 28881 bytes.\n",
            "WARNING:tensorflow:From /usr/local/lib/python3.6/dist-packages/tensorflow/contrib/learn/python/learn/datasets/mnist.py:267: extract_labels (from tensorflow.contrib.learn.python.learn.datasets.mnist) is deprecated and will be removed in a future version.\n",
            "Instructions for updating:\n",
            "Please use tf.data to implement this functionality.\n",
            "Extracting /tmp/data/train-labels-idx1-ubyte.gz\n",
            "Successfully downloaded t10k-images-idx3-ubyte.gz 1648877 bytes.\n",
            "Extracting /tmp/data/t10k-images-idx3-ubyte.gz\n",
            "Successfully downloaded t10k-labels-idx1-ubyte.gz 4542 bytes.\n",
            "Extracting /tmp/data/t10k-labels-idx1-ubyte.gz\n",
            "WARNING:tensorflow:From /usr/local/lib/python3.6/dist-packages/tensorflow/contrib/learn/python/learn/datasets/mnist.py:290: DataSet.__init__ (from tensorflow.contrib.learn.python.learn.datasets.mnist) is deprecated and will be removed in a future version.\n",
            "Instructions for updating:\n",
            "Please use alternatives such as official/mnist/dataset.py from tensorflow/models.\n"
          ],
          "name": "stdout"
        }
      ]
    },
    {
      "cell_type": "code",
      "metadata": {
        "id": "ukiNtDVtxgli",
        "colab_type": "code",
        "colab": {}
      },
      "source": [
        "# MODEL - 3 hidden layers - 1 output layer\n",
        "\n",
        "from functools import partial\n",
        "\n",
        "n_inputs = 28 * 28  # BASE SIZE FOR IMAGES\n",
        "n_hidden1 = 300\n",
        "n_hidden2 = 150  # CODINGS\n",
        "n_hidden3 = n_hidden1\n",
        "n_outputs = n_inputs\n",
        "\n",
        "learning_rate = 0.01   # DON'T FORGET TOO LARGE VS TOO SMALL\n",
        "l2_reg = 0.0001\n",
        "\n",
        "X = tf.placeholder(tf.float32, shape=[None, n_inputs])\n",
        "\n",
        "he_init = tf.contrib.layers.variance_scaling_initializer() # He initialization\n",
        "#Equivalent to:\n",
        "#he_init = lambda shape, dtype=tf.float32: tf.truncated_normal(shape, 0., stddev=np.sqrt(2/shape[0]))\n",
        "l2_regularizer = tf.contrib.layers.l2_regularizer(l2_reg)\n",
        "my_dense_layer = partial(tf.layers.dense,\n",
        "                         activation=tf.nn.elu,\n",
        "                         kernel_initializer=he_init,\n",
        "                         kernel_regularizer=l2_regularizer)\n",
        "\n",
        "hidden1 = my_dense_layer(X, n_hidden1)\n",
        "hidden2 = my_dense_layer(hidden1, n_hidden2)\n",
        "hidden3 = my_dense_layer(hidden2, n_hidden3)\n",
        "outputs = my_dense_layer(hidden3, n_outputs, activation=None)\n",
        "\n",
        "reconstruction_loss = tf.reduce_mean(tf.square(outputs - X))\n",
        "\n",
        "reg_losses = tf.get_collection(tf.GraphKeys.REGULARIZATION_LOSSES)\n",
        "loss = tf.add_n([reconstruction_loss] + reg_losses)\n",
        "\n",
        "optimizer = tf.train.AdamOptimizer(learning_rate)\n",
        "training_op = optimizer.minimize(loss)\n",
        "\n",
        "init = tf.global_variables_initializer()\n",
        "saver = tf.train.Saver() "
      ],
      "execution_count": 0,
      "outputs": []
    },
    {
      "cell_type": "code",
      "metadata": {
        "id": "vv9c7__-xglk",
        "colab_type": "code",
        "colab": {
          "base_uri": "https://localhost:8080/",
          "height": 104
        },
        "outputId": "4aba14f9-132f-4d37-b6a1-7e98263d5fdb"
      },
      "source": [
        "# MODEL - TRAINING\n",
        "\n",
        "n_epochs = 5\n",
        "batch_size = 150\n",
        "\n",
        "with tf.Session() as sess:\n",
        "    init.run()\n",
        "    for epoch in range(n_epochs):\n",
        "        n_batches = mnist.train.num_examples // batch_size\n",
        "        for iteration in range(n_batches):\n",
        "            print(\"\\r{}%\".format(100 * iteration // n_batches), end=\"\") \n",
        "            sys.stdout.flush()                                          \n",
        "            X_batch, y_batch = mnist.train.next_batch(batch_size)\n",
        "            sess.run(training_op, feed_dict={X: X_batch})\n",
        "        loss_train = reconstruction_loss.eval(feed_dict={X: X_batch})   \n",
        "        print(\"\\r{}\".format(epoch), \"Train MSE:\", loss_train)           \n",
        "        saver.save(sess, \"./my_model_all_layers.ckpt\")                  "
      ],
      "execution_count": 11,
      "outputs": [
        {
          "output_type": "stream",
          "text": [
            "0 Train MSE: 0.023565201\n",
            "1 Train MSE: 0.012687558\n",
            "2 Train MSE: 0.010858032\n",
            "3 Train MSE: 0.010354462\n",
            "4 Train MSE: 0.011059059\n"
          ],
          "name": "stdout"
        }
      ]
    },
    {
      "cell_type": "code",
      "metadata": {
        "id": "emFPhlcSxglm",
        "colab_type": "code",
        "colab": {
          "base_uri": "https://localhost:8080/",
          "height": 469
        },
        "outputId": "e813f2fd-bb3c-4e35-de12-7e61f85013d0"
      },
      "source": [
        "# INTERPRET - REVIEW RECONSTRUCTIONS\n",
        "\n",
        "def show_reconstructed_digits(X, outputs, model_path = None, n_test_digits = 2):\n",
        "    with tf.Session() as sess:\n",
        "        if model_path:\n",
        "            saver.restore(sess, model_path)\n",
        "        X_test = mnist.test.images[:n_test_digits]\n",
        "        outputs_val = outputs.eval(feed_dict={X: X_test})\n",
        "\n",
        "    fig = plt.figure(figsize=(8, 3 * n_test_digits))\n",
        "    for digit_index in range(n_test_digits):\n",
        "        plt.subplot(n_test_digits, 2, digit_index * 2 + 1)\n",
        "        plot_image(X_test[digit_index])\n",
        "        plt.subplot(n_test_digits, 2, digit_index * 2 + 2)\n",
        "        plot_image(outputs_val[digit_index])\n",
        "\n",
        "show_reconstructed_digits(X, outputs, \"./my_model_all_layers.ckpt\")\n",
        "plt.show()"
      ],
      "execution_count": 12,
      "outputs": [
        {
          "output_type": "stream",
          "text": [
            "WARNING:tensorflow:From /usr/local/lib/python3.6/dist-packages/tensorflow/python/training/saver.py:1266: checkpoint_exists (from tensorflow.python.training.checkpoint_management) is deprecated and will be removed in a future version.\n",
            "Instructions for updating:\n",
            "Use standard file APIs to check for files with this prefix.\n",
            "INFO:tensorflow:Restoring parameters from ./my_model_all_layers.ckpt\n"
          ],
          "name": "stdout"
        },
        {
          "output_type": "display_data",
          "data": {
            "image/png": "[encoded data removed]",
            "text/plain": [
              "<Figure size 576x432 with 4 Axes>"
            ]
          },
          "metadata": {
            "tags": []
          }
        }
      ]
    },
    {
      "cell_type": "code",
      "metadata": {
        "id": "kGr-_11Fxglp",
        "colab_type": "code",
        "colab": {}
      },
      "source": [
        "# MODEL - RESET CODINGS\n",
        "\n",
        "n_inputs = 28 * 28\n",
        "n_hidden1 = 300\n",
        "n_hidden2 = 150 \n",
        "n_hidden3 = n_hidden1\n",
        "n_outputs = n_inputs\n",
        "\n",
        "learning_rate = 0.01\n",
        "l2_reg = 0.0005  # NOTICE NEW L2\n",
        "\n",
        "# BUILD\n",
        "\n",
        "activation = tf.nn.elu\n",
        "regularizer = tf.contrib.layers.l2_regularizer(l2_reg)\n",
        "initializer = tf.contrib.layers.variance_scaling_initializer()\n",
        "\n",
        "X = tf.placeholder(tf.float32, shape=[None, n_inputs])\n",
        "\n",
        "weights1_init = initializer([n_inputs, n_hidden1])\n",
        "weights2_init = initializer([n_hidden1, n_hidden2])\n",
        "\n",
        "weights1 = tf.Variable(weights1_init, dtype=tf.float32, name=\"weights1\")\n",
        "weights2 = tf.Variable(weights2_init, dtype=tf.float32, name=\"weights2\")\n",
        "weights3 = tf.transpose(weights2, name=\"weights3\")  # tied weights\n",
        "weights4 = tf.transpose(weights1, name=\"weights4\")  # tied weights\n",
        "\n",
        "biases1 = tf.Variable(tf.zeros(n_hidden1), name=\"biases1\")\n",
        "biases2 = tf.Variable(tf.zeros(n_hidden2), name=\"biases2\")\n",
        "biases3 = tf.Variable(tf.zeros(n_hidden3), name=\"biases3\")\n",
        "biases4 = tf.Variable(tf.zeros(n_outputs), name=\"biases4\")\n",
        "\n",
        "hidden1 = activation(tf.matmul(X, weights1) + biases1)\n",
        "hidden2 = activation(tf.matmul(hidden1, weights2) + biases2)\n",
        "hidden3 = activation(tf.matmul(hidden2, weights3) + biases3)\n",
        "outputs = tf.matmul(hidden3, weights4) + biases4\n",
        "\n",
        "reconstruction_loss = tf.reduce_mean(tf.square(outputs - X))\n",
        "reg_loss = regularizer(weights1) + regularizer(weights2)\n",
        "loss = reconstruction_loss + reg_loss\n",
        "\n",
        "optimizer = tf.train.AdamOptimizer(learning_rate)\n",
        "training_op = optimizer.minimize(loss)\n",
        "\n",
        "init = tf.global_variables_initializer()"
      ],
      "execution_count": 0,
      "outputs": []
    },
    {
      "cell_type": "code",
      "metadata": {
        "id": "RcSqkqRmxglr",
        "colab_type": "code",
        "colab": {}
      },
      "source": [
        "saver = tf.train.Saver()\n"
      ],
      "execution_count": 0,
      "outputs": []
    },
    {
      "cell_type": "code",
      "metadata": {
        "id": "cRB2LWurxglt",
        "colab_type": "code",
        "colab": {
          "base_uri": "https://localhost:8080/",
          "height": 104
        },
        "outputId": "ff07319f-35dd-4b27-9c72-f55a2a579e9f"
      },
      "source": [
        "n_epochs = 5\n",
        "batch_size = 100\n",
        "\n",
        "with tf.Session() as sess:\n",
        "    init.run()\n",
        "    for epoch in range(n_epochs):\n",
        "        n_batches = mnist.train.num_examples // batch_size\n",
        "        for iteration in range(n_batches):\n",
        "            print(\"\\r{}%\".format(100 * iteration // n_batches), end=\"\")\n",
        "            sys.stdout.flush()\n",
        "            X_batch, y_batch = mnist.train.next_batch(batch_size)\n",
        "            sess.run(training_op, feed_dict={X: X_batch})\n",
        "        loss_train = reconstruction_loss.eval(feed_dict={X: X_batch})\n",
        "        print(\"\\r{}\".format(epoch), \"Train MSE:\", loss_train)\n",
        "        saver.save(sess, \"./my_model_tying_weights.ckpt\")"
      ],
      "execution_count": 15,
      "outputs": [
        {
          "output_type": "stream",
          "text": [
            "0 Train MSE: 0.015886731\n",
            "1 Train MSE: 0.016240483\n",
            "2 Train MSE: 0.017031668\n",
            "3 Train MSE: 0.01729167\n",
            "4 Train MSE: 0.017706994\n"
          ],
          "name": "stdout"
        }
      ]
    },
    {
      "cell_type": "code",
      "metadata": {
        "id": "OnkZLVc2xglx",
        "colab_type": "code",
        "colab": {
          "base_uri": "https://localhost:8080/",
          "height": 397
        },
        "outputId": "da2e5078-88a5-416a-f463-22993d697dd2"
      },
      "source": [
        "show_reconstructed_digits(X, outputs, \"./my_model_tying_weights.ckpt\")\n",
        "plt.show()"
      ],
      "execution_count": 16,
      "outputs": [
        {
          "output_type": "stream",
          "text": [
            "INFO:tensorflow:Restoring parameters from ./my_model_tying_weights.ckpt\n"
          ],
          "name": "stdout"
        },
        {
          "output_type": "display_data",
          "data": {
            "image/png": "[encoded data removed]",
            "text/plain": [
              "<Figure size 576x432 with 4 Axes>"
            ]
          },
          "metadata": {
            "tags": []
          }
        }
      ]
    },
    {
      "cell_type": "markdown",
      "metadata": {
        "id": "ZvLNwh11xgl1",
        "colab_type": "text"
      },
      "source": [
        "Training one Autoencoder with a Single Graph"
      ]
    },
    {
      "cell_type": "code",
      "metadata": {
        "id": "MuC7HMEyxgl1",
        "colab_type": "code",
        "colab": {}
      },
      "source": [
        "n_inputs = 28 * 28\n",
        "n_hidden1 = 300\n",
        "n_hidden2 = 150  # codings\n",
        "n_hidden3 = n_hidden1\n",
        "n_outputs = n_inputs\n",
        "\n",
        "learning_rate = 0.01\n",
        "l2_reg = 0.0001\n",
        "\n",
        "activation = tf.nn.elu\n",
        "regularizer = tf.contrib.layers.l2_regularizer(l2_reg)\n",
        "initializer = tf.contrib.layers.variance_scaling_initializer()\n",
        "\n",
        "X = tf.placeholder(tf.float32, shape=[None, n_inputs])\n",
        "\n",
        "weights1_init = initializer([n_inputs, n_hidden1])\n",
        "weights2_init = initializer([n_hidden1, n_hidden2])\n",
        "weights3_init = initializer([n_hidden2, n_hidden3])\n",
        "weights4_init = initializer([n_hidden3, n_outputs])\n",
        "\n",
        "weights1 = tf.Variable(weights1_init, dtype=tf.float32, name=\"weights1\")\n",
        "weights2 = tf.Variable(weights2_init, dtype=tf.float32, name=\"weights2\")\n",
        "weights3 = tf.Variable(weights3_init, dtype=tf.float32, name=\"weights3\")\n",
        "weights4 = tf.Variable(weights4_init, dtype=tf.float32, name=\"weights4\")\n",
        "\n",
        "biases1 = tf.Variable(tf.zeros(n_hidden1), name=\"biases1\")\n",
        "biases2 = tf.Variable(tf.zeros(n_hidden2), name=\"biases2\")\n",
        "biases3 = tf.Variable(tf.zeros(n_hidden3), name=\"biases3\")\n",
        "biases4 = tf.Variable(tf.zeros(n_outputs), name=\"biases4\")\n",
        "\n",
        "hidden1 = activation(tf.matmul(X, weights1) + biases1)\n",
        "hidden2 = activation(tf.matmul(hidden1, weights2) + biases2)\n",
        "hidden3 = activation(tf.matmul(hidden2, weights3) + biases3)\n",
        "outputs = tf.matmul(hidden3, weights4) + biases4\n",
        "\n",
        "reconstruction_loss = tf.reduce_mean(tf.square(outputs - X))"
      ],
      "execution_count": 0,
      "outputs": []
    },
    {
      "cell_type": "code",
      "metadata": {
        "id": "0t8syzB6xgl4",
        "colab_type": "code",
        "colab": {}
      },
      "source": [
        "optimizer = tf.train.AdamOptimizer(learning_rate)\n",
        "\n",
        "with tf.name_scope(\"phase1\"):\n",
        "    phase1_outputs = tf.matmul(hidden1, weights4) + biases4  # bypass hidden2 and hidden3\n",
        "    phase1_reconstruction_loss = tf.reduce_mean(tf.square(phase1_outputs - X))\n",
        "    phase1_reg_loss = regularizer(weights1) + regularizer(weights4)\n",
        "    phase1_loss = phase1_reconstruction_loss + phase1_reg_loss\n",
        "    phase1_training_op = optimizer.minimize(phase1_loss)\n",
        "\n",
        "with tf.name_scope(\"phase2\"):\n",
        "    phase2_reconstruction_loss = tf.reduce_mean(tf.square(hidden3 - hidden1))\n",
        "    phase2_reg_loss = regularizer(weights2) + regularizer(weights3)\n",
        "    phase2_loss = phase2_reconstruction_loss + phase2_reg_loss\n",
        "    train_vars = [weights2, biases2, weights3, biases3]\n",
        "    phase2_training_op = optimizer.minimize(phase2_loss, var_list=train_vars) # freeze hidden1"
      ],
      "execution_count": 0,
      "outputs": []
    },
    {
      "cell_type": "code",
      "metadata": {
        "id": "G5Omdbj6xgl7",
        "colab_type": "code",
        "colab": {}
      },
      "source": [
        "\n",
        "init = tf.global_variables_initializer()\n",
        "saver = tf.train.Saver()"
      ],
      "execution_count": 0,
      "outputs": []
    },
    {
      "cell_type": "code",
      "metadata": {
        "id": "pjij2YA4xgl9",
        "colab_type": "code",
        "colab": {
          "base_uri": "https://localhost:8080/",
          "height": 208
        },
        "outputId": "a410f958-3b34-40f1-d5e7-06ea4facde06"
      },
      "source": [
        "training_ops = [phase1_training_op, phase2_training_op]\n",
        "reconstruction_losses = [phase1_reconstruction_loss, phase2_reconstruction_loss]\n",
        "n_epochs = [4, 4]\n",
        "batch_sizes = [150, 150]\n",
        "\n",
        "with tf.Session() as sess:\n",
        "    init.run()\n",
        "    for phase in range(2):\n",
        "        print(\"Training phase #{}\".format(phase + 1))\n",
        "        for epoch in range(n_epochs[phase]):\n",
        "            n_batches = mnist.train.num_examples // batch_sizes[phase]\n",
        "            for iteration in range(n_batches):\n",
        "                print(\"\\r{}%\".format(100 * iteration // n_batches), end=\"\")\n",
        "                sys.stdout.flush()\n",
        "                X_batch, y_batch = mnist.train.next_batch(batch_sizes[phase])\n",
        "                sess.run(training_ops[phase], feed_dict={X: X_batch})\n",
        "            loss_train = reconstruction_losses[phase].eval(feed_dict={X: X_batch})\n",
        "            print(\"\\r{}\".format(epoch), \"Train MSE:\", loss_train)\n",
        "            saver.save(sess, \"./my_model_one_at_a_time.ckpt\")\n",
        "    loss_test = reconstruction_loss.eval(feed_dict={X: mnist.test.images})\n",
        "    print(\"Test MSE:\", loss_test)"
      ],
      "execution_count": 20,
      "outputs": [
        {
          "output_type": "stream",
          "text": [
            "Training phase #1\n",
            "0 Train MSE: 0.007253801\n",
            "1 Train MSE: 0.0075559546\n",
            "2 Train MSE: 0.0074744876\n",
            "3 Train MSE: 0.008217969\n",
            "Training phase #2\n",
            "0 Train MSE: 0.33028167\n",
            "1 Train MSE: 0.0055464436\n",
            "2 Train MSE: 0.0028394829\n",
            "3 Train MSE: 0.002314935\n",
            "Test MSE: 0.009997287\n"
          ],
          "name": "stdout"
        }
      ]
    },
    {
      "cell_type": "code",
      "metadata": {
        "id": "X7XQ4JbCxgmA",
        "colab_type": "code",
        "colab": {
          "base_uri": "https://localhost:8080/",
          "height": 208
        },
        "outputId": "2dc5cad3-5851-40de-e7f5-558bf1710eae"
      },
      "source": [
        "training_ops = [phase1_training_op, phase2_training_op]\n",
        "reconstruction_losses = [phase1_reconstruction_loss, phase2_reconstruction_loss]\n",
        "n_epochs = [4, 4]\n",
        "batch_sizes = [150, 150]\n",
        "\n",
        "with tf.Session() as sess:\n",
        "    init.run()\n",
        "    for phase in range(2):\n",
        "        print(\"Training phase #{}\".format(phase + 1))\n",
        "        if phase == 1:\n",
        "            hidden1_cache = hidden1.eval(feed_dict={X: mnist.train.images})\n",
        "        for epoch in range(n_epochs[phase]):\n",
        "            n_batches = mnist.train.num_examples // batch_sizes[phase]\n",
        "            for iteration in range(n_batches):\n",
        "                print(\"\\r{}%\".format(100 * iteration // n_batches), end=\"\")\n",
        "                sys.stdout.flush()\n",
        "                if phase == 1:\n",
        "                    indices = rnd.permutation(mnist.train.num_examples)\n",
        "                    hidden1_batch = hidden1_cache[indices[:batch_sizes[phase]]]\n",
        "                    feed_dict = {hidden1: hidden1_batch}\n",
        "                    sess.run(training_ops[phase], feed_dict=feed_dict)\n",
        "                else:\n",
        "                    X_batch, y_batch = mnist.train.next_batch(batch_sizes[phase])\n",
        "                    feed_dict = {X: X_batch}\n",
        "                    sess.run(training_ops[phase], feed_dict=feed_dict)\n",
        "            loss_train = reconstruction_losses[phase].eval(feed_dict=feed_dict)\n",
        "            print(\"\\r{}\".format(epoch), \"Train MSE:\", loss_train)\n",
        "            saver.save(sess, \"./my_model_cache_frozen.ckpt\")\n",
        "    loss_test = reconstruction_loss.eval(feed_dict={X: mnist.test.images})\n",
        "    print(\"Test MSE:\", loss_test)"
      ],
      "execution_count": 21,
      "outputs": [
        {
          "output_type": "stream",
          "text": [
            "Training phase #1\n",
            "0 Train MSE: 0.0072572865\n",
            "1 Train MSE: 0.0070899925\n",
            "2 Train MSE: 0.0080076195\n",
            "3 Train MSE: 0.008051984\n",
            "Training phase #2\n",
            "0 Train MSE: 0.11357522\n",
            "1 Train MSE: 0.0039808904\n",
            "2 Train MSE: 0.0021708373\n",
            "3 Train MSE: 0.0019308514\n",
            "Test MSE: 0.009703408\n"
          ],
          "name": "stdout"
        }
      ]
    },
    {
      "cell_type": "code",
      "metadata": {
        "id": "55ZXj0YexgmD",
        "colab_type": "code",
        "colab": {
          "base_uri": "https://localhost:8080/",
          "height": 290
        },
        "outputId": "a4215531-2fe0-4eab-937a-f453774ce2c5"
      },
      "source": [
        "n_test_digits = 2\n",
        "X_test = mnist.test.images[:n_test_digits]\n",
        "\n",
        "with tf.Session() as sess:\n",
        "    saver.restore(sess, \"./my_model_one_at_a_time.ckpt\") \n",
        "    outputs_val = outputs.eval(feed_dict={X: X_test})\n",
        "\n",
        "def plot_image(image, shape=[28, 28]):\n",
        "    plt.imshow(image.reshape(shape), cmap=\"Greys\", interpolation=\"nearest\")\n",
        "    plt.axis(\"off\")\n",
        "\n",
        "for digit_index in range(n_test_digits):\n",
        "    plt.subplot(n_test_digits, 2, digit_index * 2 + 1)\n",
        "    plot_image(X_test[digit_index])\n",
        "    plt.subplot(n_test_digits, 2, digit_index * 2 + 2)\n",
        "    plot_image(outputs_val[digit_index])\n",
        "    \n",
        "plt.show()"
      ],
      "execution_count": 22,
      "outputs": [
        {
          "output_type": "stream",
          "text": [
            "INFO:tensorflow:Restoring parameters from ./my_model_one_at_a_time.ckpt\n"
          ],
          "name": "stdout"
        },
        {
          "output_type": "display_data",
          "data": {
            "image/png": "[encoded data removed]",
            "text/plain": [
              "<Figure size 432x288 with 4 Axes>"
            ]
          },
          "metadata": {
            "tags": []
          }
        }
      ]
    },
    {
      "cell_type": "code",
      "metadata": {
        "id": "1LyDPi-6xgmF",
        "colab_type": "code",
        "colab": {
          "base_uri": "https://localhost:8080/",
          "height": 131
        },
        "outputId": "953a4a1b-ee62-4521-a7bc-18c217a83299"
      },
      "source": [
        "with tf.Session() as sess:\n",
        "    saver.restore(sess, \"./my_model_one_at_a_time.ckpt\") \n",
        "    weights1_val = weights1.eval()\n",
        "\n",
        "for i in range(5):\n",
        "    plt.subplot(1, 5, i + 1)\n",
        "    plot_image(weights1_val.T[i])\n",
        "\n",
        "plt.show() "
      ],
      "execution_count": 23,
      "outputs": [
        {
          "output_type": "stream",
          "text": [
            "INFO:tensorflow:Restoring parameters from ./my_model_one_at_a_time.ckpt\n"
          ],
          "name": "stdout"
        },
        {
          "output_type": "display_data",
          "data": {
            "image/png": "[encoded data removed]",
            "text/plain": [
              "<Figure size 432x288 with 5 Axes>"
            ]
          },
          "metadata": {
            "tags": []
          }
        }
      ]
    },
    {
      "cell_type": "code",
      "metadata": {
        "id": "vghsw1qTxgmI",
        "colab_type": "code",
        "colab": {}
      },
      "source": [
        ""
      ],
      "execution_count": 0,
      "outputs": []
    }
  ]
}